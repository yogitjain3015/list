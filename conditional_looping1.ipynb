{
  "nbformat": 4,
  "nbformat_minor": 0,
  "metadata": {
    "colab": {
      "provenance": [],
      "authorship_tag": "ABX9TyOTEcTOoKu1/ZUiysur17JT",
      "include_colab_link": true
    },
    "kernelspec": {
      "name": "python3",
      "display_name": "Python 3"
    },
    "language_info": {
      "name": "python"
    }
  },
  "cells": [
    {
      "cell_type": "markdown",
      "metadata": {
        "id": "view-in-github",
        "colab_type": "text"
      },
      "source": [
        "<a href=\"https://colab.research.google.com/github/yogitjain3015/list/blob/main/conditional_looping1.ipynb\" target=\"_parent\"><img src=\"https://colab.research.google.com/assets/colab-badge.svg\" alt=\"Open In Colab\"/></a>"
      ]
    },
    {
      "cell_type": "code",
      "execution_count": null,
      "metadata": {
        "colab": {
          "base_uri": "https://localhost:8080/"
        },
        "id": "q7bLsGTRW7FH",
        "outputId": "f5a377c3-95f2-4147-ba7f-033859fcbc6a"
      },
      "outputs": [
        {
          "output_type": "stream",
          "name": "stdout",
          "text": [
            "Positive numbers in [12, 14, -95, 3] are: \n",
            "12 14 3 "
          ]
        }
      ],
      "source": [
        "list2=[12,14,-95,3]\n",
        "print(\"Positive numbers in\",list2,\"are: \")\n",
        "  \n",
        "#traversing\n",
        "for i in list2:   \n",
        "    # checking condition\n",
        "    if i >= 0:\n",
        "       print(i, end = \" \")"
      ]
    }
  ]
}